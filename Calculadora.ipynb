{
 "cells": [
  {
   "cell_type": "code",
   "execution_count": 1,
   "id": "19926e5a",
   "metadata": {},
   "outputs": [
    {
     "name": "stdout",
     "output_type": "stream",
     "text": [
      "Requirement already satisfied: flask in c:\\users\\aluno\\anaconda3\\lib\\site-packages (2.2.2)\n",
      "Requirement already satisfied: itsdangerous>=2.0 in c:\\users\\aluno\\anaconda3\\lib\\site-packages (from flask) (2.0.1)\n",
      "Requirement already satisfied: Werkzeug>=2.2.2 in c:\\users\\aluno\\anaconda3\\lib\\site-packages (from flask) (2.2.2)\n",
      "Requirement already satisfied: click>=8.0 in c:\\users\\aluno\\anaconda3\\lib\\site-packages (from flask) (8.0.4)\n",
      "Requirement already satisfied: Jinja2>=3.0 in c:\\users\\aluno\\anaconda3\\lib\\site-packages (from flask) (3.1.2)\n",
      "Requirement already satisfied: colorama in c:\\users\\aluno\\appdata\\roaming\\python\\python310\\site-packages (from click>=8.0->flask) (0.4.6)\n",
      "Requirement already satisfied: MarkupSafe>=2.0 in c:\\users\\aluno\\anaconda3\\lib\\site-packages (from Jinja2>=3.0->flask) (2.1.1)\n",
      "Note: you may need to restart the kernel to use updated packages.\n"
     ]
    }
   ],
   "source": [
    "pip install flask"
   ]
  },
  {
   "cell_type": "code",
   "execution_count": 9,
   "id": "eb4ada62",
   "metadata": {},
   "outputs": [
    {
     "name": "stdout",
     "output_type": "stream",
     "text": [
      "Requirement already satisfied: spyne in c:\\users\\aluno\\anaconda3\\lib\\site-packages (2.14.0)\n",
      "Requirement already satisfied: pytz in c:\\users\\aluno\\anaconda3\\lib\\site-packages (from spyne) (2022.7)\n",
      "Note: you may need to restart the kernel to use updated packages.\n"
     ]
    }
   ],
   "source": [
    "pip install spyne"
   ]
  },
  {
   "cell_type": "code",
   "execution_count": null,
   "id": "71ae74c4",
   "metadata": {},
   "outputs": [
    {
     "name": "stderr",
     "output_type": "stream",
     "text": [
      "Overwriting application ('calculator', 'Application')(<spyne.application.Application object at 0x0000023578027370>).\n"
     ]
    },
    {
     "name": "stdout",
     "output_type": "stream",
     "text": [
      "Servidor SOAP iniciado em http://localhost:8000/soap/calculator\n"
     ]
    }
   ],
   "source": [
    "from spyne import Application, rpc, ServiceBase, Integer, Float\n",
    "from spyne.protocol.soap import Soap11\n",
    "from spyne.server.wsgi import WsgiApplication\n",
    "from wsgiref.simple_server import make_server\n",
    "\n",
    "class CalculatorService(ServiceBase):\n",
    "    @rpc(Integer, Integer, _returns=Integer)\n",
    "    def multiplicar(ctx, a, b):\n",
    "        return a * b\n",
    "\n",
    "    @rpc(Integer, Integer, _returns=Float)\n",
    "    def dividir(ctx, a, b):\n",
    "        if b != 0:\n",
    "            return float(a) / b\n",
    "        else:\n",
    "            raise ZeroDivisionError(\"Erro: Divisão por zero\")\n",
    "\n",
    "    @rpc(Integer, Integer, _returns=Integer)\n",
    "    def somar(ctx, a, b):\n",
    "        return a + b\n",
    "\n",
    "    @rpc(Integer, Integer, _returns=Integer)\n",
    "    def subtrair(ctx, a, b):\n",
    "        return a - b\n",
    "\n",
    "# Criação da aplicação Spyne\n",
    "soap_app = Application([CalculatorService], 'calculator',\n",
    "                       in_protocol=Soap11(validator='lxml'),\n",
    "                       out_protocol=Soap11())\n",
    "\n",
    "# Criação do aplicativo WSGI\n",
    "wsgi_app = WsgiApplication(soap_app)\n",
    "\n",
    "if __name__ == '__main__':\n",
    "    # Iniciar o servidor de desenvolvimento para testar o serviço\n",
    "    server = make_server('localhost', 8000, wsgi_app)\n",
    "    print(\"Servidor SOAP iniciado em http://localhost:8000/soap/calculator\")\n",
    "    server.serve_forever()\n"
   ]
  },
  {
   "cell_type": "code",
   "execution_count": null,
   "id": "bb3d230c",
   "metadata": {},
   "outputs": [],
   "source": []
  }
 ],
 "metadata": {
  "kernelspec": {
   "display_name": "Python 3 (ipykernel)",
   "language": "python",
   "name": "python3"
  },
  "language_info": {
   "codemirror_mode": {
    "name": "ipython",
    "version": 3
   },
   "file_extension": ".py",
   "mimetype": "text/x-python",
   "name": "python",
   "nbconvert_exporter": "python",
   "pygments_lexer": "ipython3",
   "version": "3.10.9"
  }
 },
 "nbformat": 4,
 "nbformat_minor": 5
}
